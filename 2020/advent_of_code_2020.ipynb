{
 "metadata": {
  "language_info": {
   "codemirror_mode": {
    "name": "ipython",
    "version": 3
   },
   "file_extension": ".py",
   "mimetype": "text/x-python",
   "name": "python",
   "nbconvert_exporter": "python",
   "pygments_lexer": "ipython3",
   "version": "3.7.3-final"
  },
  "orig_nbformat": 2,
  "kernelspec": {
   "name": "python3",
   "display_name": "Python 3"
  }
 },
 "nbformat": 4,
 "nbformat_minor": 2,
 "cells": [
  {
   "source": [
    "# Advent of Code 2020\n",
    "\n",
    "## Day 1\n",
    "\n",
    "Before you leave, the Elves in accounting just need you to fix your expense report (your puzzle input); apparently, something isn't quite adding up.\n",
    "\n",
    "Specifically, they need you to find the two entries that sum to 2020 and then multiply those two numbers together.\n",
    "\n",
    "For example, suppose your expense report contained the following:\n",
    "\n",
    "1721\n",
    "979\n",
    "366\n",
    "299\n",
    "675\n",
    "1456\n",
    "\n",
    "In this list, the two entries that sum to 2020 are 1721 and 299. Multiplying them together produces 1721 * 299 = 514579, so the correct answer is 514579.\n",
    "\n",
    "Of course, your expense report is much larger. Find the two entries that sum to 2020; what do you get if you multiply them together?\n"
   ],
   "cell_type": "markdown",
   "metadata": {}
  },
  {
   "cell_type": "code",
   "execution_count": 2,
   "metadata": {},
   "outputs": [
    {
     "output_type": "stream",
     "name": "stdout",
     "text": [
      "1010299\n"
     ]
    }
   ],
   "source": [
    "from itertools import *\n",
    "\n",
    "with open(\"inputs/input_day_01.txt\", \"r\") as txt:\n",
    "    numbers = [int(line.strip()) for line in txt]\n",
    "\n",
    "sum_2020 = [comb for comb in combinations(numbers, 2) if sum(comb) == 2020][0]\n",
    "\n",
    "prod_2020 = sum_2020[0] * sum_2020[1]\n",
    "print(prod_2020)"
   ]
  },
  {
   "source": [
    "**--- Part Two ---**\n",
    "\n",
    "The Elves in accounting are thankful for your help; one of them even offers you a starfish coin they had left over from a past vacation. They offer you a second one if you can find three numbers in your expense report that meet the same criteria.\n",
    "\n",
    "Using the above example again, the three entries that sum to 2020 are 979, 366, and 675. Multiplying them together produces the answer, 241861950.\n",
    "\n",
    "In your expense report, what is the product of the three entries that sum to 2020?"
   ],
   "cell_type": "markdown",
   "metadata": {}
  },
  {
   "cell_type": "code",
   "execution_count": 3,
   "metadata": {},
   "outputs": [
    {
     "output_type": "stream",
     "name": "stdout",
     "text": [
      "42140160\n"
     ]
    }
   ],
   "source": [
    "from itertools import *\n",
    "\n",
    "with open(\"inputs/input_day_01.txt\", \"r\") as txt:\n",
    "    numbers = [int(line.strip()) for line in txt]\n",
    "\n",
    "sum_2020 = [comb for comb in combinations(numbers, 3) if sum(comb) == 2020][0]\n",
    "\n",
    "prod_2020 = sum_2020[0] * sum_2020[1] * sum_2020[2]\n",
    "print(prod_2020)"
   ]
  },
  {
   "source": [
    "### Tidy code"
   ],
   "cell_type": "markdown",
   "metadata": {}
  },
  {
   "cell_type": "code",
   "execution_count": 4,
   "metadata": {},
   "outputs": [
    {
     "output_type": "stream",
     "name": "stdout",
     "text": [
      "1010299\n",
      "42140160\n"
     ]
    }
   ],
   "source": [
    "from itertools import *\n",
    "\n",
    "with open(\"inputs/input_day_01.txt\", \"r\") as txt:\n",
    "    numbers = [int(line.strip()) for line in txt]\n",
    "\n",
    "# Part 1\n",
    "sum_1 = [comb for comb in combinations(numbers, 2) if sum(comb) == 2020][0]\n",
    "print(sum_1[0] * sum_1[1])\n",
    "\n",
    "# Part 2\n",
    "sum_2 = [comb for comb in combinations(numbers, 3) if sum(comb) == 2020][0]\n",
    "print(sum_2[0] * sum_2[1] * sum_2[2])"
   ]
  },
  {
   "source": [
    "***\n",
    "\n",
    "## Day 2\n",
    "\n",
    "**--- Day 2: Password Philosophy ---**\n",
    "\n",
    "Your flight departs in a few days from the coastal airport; the easiest way down to the coast from here is via toboggan.\n",
    "\n",
    "The shopkeeper at the North Pole Toboggan Rental Shop is having a bad day. \"Something's wrong with our computers; we can't log in!\" You ask if you can take a look.\n",
    "\n",
    "Their password database seems to be a little corrupted: some of the passwords wouldn't have been allowed by the Official Toboggan Corporate Policy that was in effect when they were chosen.\n",
    "\n",
    "To try to debug the problem, they have created a list (your puzzle input) of passwords (according to the corrupted database) and the corporate policy when that password was set.\n",
    "\n",
    "For example, suppose you have the following list:\n",
    "\n",
    "`1-3 a: abcde\n",
    "1-3 b: cdefg\n",
    "2-9 c: ccccccccc`\n",
    "\n",
    "Each line gives the password policy and then the password. The password policy indicates the lowest and highest number of times a given letter must appear for the password to be valid. For example, 1-3 a means that the password must contain a at least 1 time and at most 3 times.\n",
    "\n",
    "In the above example, 2 passwords are valid. The middle password, cdefg, is not; it contains no instances of b, but needs at least 1. The first and third passwords are valid: they contain one a or nine c, both within the limits of their respective policies.\n",
    "\n",
    "How many passwords are valid according to their policies?\n"
   ],
   "cell_type": "markdown",
   "metadata": {}
  },
  {
   "cell_type": "code",
   "execution_count": 26,
   "metadata": {},
   "outputs": [
    {
     "output_type": "stream",
     "name": "stdout",
     "text": [
      "445\n"
     ]
    }
   ],
   "source": [
    "import pandas as pd \n",
    "\n",
    "data = pd.read_csv(\"inputs/input_day_02.txt\", sep = \" \", header = None)\n",
    "data.columns = [\"limits\", \"letter\", \"password\"]\n",
    "\n",
    "data[[\"min\", \"max\"]] = data[\"limits\"].str.split(\"-\", expand = True)\n",
    "data[[\"min\", \"max\"]] = data[[\"min\", \"max\"]].apply(pd.to_numeric)\n",
    "\n",
    "data[\"letter\"] = data[\"letter\"].str.replace(\":\", \"\")\n",
    "\n",
    "good_pw = 0\n",
    "for index, row in data.iterrows():\n",
    "    min_count = row[\"min\"]\n",
    "    max_count = row[\"max\"]\n",
    "    count = row[\"password\"].count(row[\"letter\"])\n",
    "    \n",
    "    if min_count <= count <= max_count:\n",
    "        good_pw += 1\n",
    "\n",
    "print(good_pw)"
   ]
  },
  {
   "source": [
    "**--- Part Two ---**\n",
    "While it appears you validated the passwords correctly, they don't seem to be what the Official Toboggan Corporate Authentication System is expecting.\n",
    "\n",
    "The shopkeeper suddenly realizes that he just accidentally explained the password policy rules from his old job at the sled rental place down the street! The Official Toboggan Corporate Policy actually works a little differently.\n",
    "\n",
    "Each policy actually describes two positions in the password, where 1 means the first character, 2 means the second character, and so on. (Be careful; Toboggan Corporate Policies have no concept of \"index zero\"!) Exactly one of these positions must contain the given letter. Other occurrences of the letter are irrelevant for the purposes of policy enforcement.\n",
    "\n",
    "Given the same example list from above:\n",
    "\n",
    "1-3 a: abcde is valid: position 1 contains a and position 3 does not.\n",
    "1-3 b: cdefg is invalid: neither position 1 nor position 3 contains b.\n",
    "2-9 c: ccccccccc is invalid: both position 2 and position 9 contain c.\n",
    "How many passwords are valid according to the new interpretation of the policies?"
   ],
   "cell_type": "markdown",
   "metadata": {}
  },
  {
   "cell_type": "code",
   "execution_count": 31,
   "metadata": {},
   "outputs": [
    {
     "output_type": "stream",
     "name": "stdout",
     "text": [
      "491\n"
     ]
    }
   ],
   "source": [
    "import pandas as pd \n",
    "\n",
    "data = pd.read_csv(\"inputs/input_day_02.txt\", sep = \" \", header = None)\n",
    "data.columns = [\"limits\", \"letter\", \"password\"]\n",
    "\n",
    "data[[\"min\", \"max\"]] = data[\"limits\"].str.split(\"-\", expand = True)\n",
    "data[[\"min\", \"max\"]] = data[[\"min\", \"max\"]].apply(pd.to_numeric)\n",
    "\n",
    "data[\"letter\"] = data[\"letter\"].str.replace(\":\", \"\")\n",
    "\n",
    "good_pw = 0\n",
    "for index, row in data.iterrows():\n",
    "    idx_1 = row[\"min\"] -1\n",
    "    idx_2 = row[\"max\"] -1\n",
    "    letter = row[\"letter\"]\n",
    "    pw = row[\"password\"]\n",
    "\n",
    "    is_only_one = sum((pw[idx_1] == letter, pw[idx_2] == letter)) == 1\n",
    "\n",
    "    if is_only_one:\n",
    "        good_pw += 1\n",
    "\n",
    "print(good_pw)"
   ]
  },
  {
   "source": [
    "### Tidy code"
   ],
   "cell_type": "markdown",
   "metadata": {}
  },
  {
   "cell_type": "code",
   "execution_count": 8,
   "metadata": {},
   "outputs": [
    {
     "output_type": "stream",
     "name": "stdout",
     "text": [
      "445 491\n"
     ]
    }
   ],
   "source": [
    "import pandas as pd \n",
    "\n",
    "data = pd.read_csv(\"inputs/input_day_02.txt\", sep = \" \", header = None)\n",
    "data.columns = [\"limits\", \"letter\", \"password\"]\n",
    "data[[\"min\", \"max\"]] = (data[\"limits\"].str.split(\"-\", expand = True)).apply(pd.to_numeric)\n",
    "data[\"letter\"] = data[\"letter\"].str.replace(\":\", \"\")\n",
    "\n",
    "ok_pw_1 = 0; ok_pw_2 = 0\n",
    "for index, row in data.iterrows():\n",
    "    # Part 1\n",
    "    if row[\"min\"] <= row[\"password\"].count(row[\"letter\"]) <= row[\"max\"]:\n",
    "        ok_pw_1 += 1\n",
    "\n",
    "    # Part 2\n",
    "    is_only_one = sum((row[\"password\"][row[\"min\"] - 1] == row[\"letter\"], row[\"password\"][row[\"max\"] - 1] == row[\"letter\"])) == 1\n",
    "    if is_only_one:\n",
    "        ok_pw_2 += 1\n",
    "\n",
    "print(ok_pw_1, ok_pw_2)"
   ]
  },
  {
   "source": [
    "***\n",
    "## Day 3\n",
    "\n",
    "--- Day 3: Toboggan Trajectory ---\n",
    "With the toboggan login problems resolved, you set off toward the airport. While travel by toboggan might be easy, it's certainly not safe: there's very minimal steering and the area is covered in trees. You'll need to see which angles will take you near the fewest trees.\n",
    "\n",
    "Due to the local geology, trees in this area only grow on exact integer coordinates in a grid. You make a map (your puzzle input) of the open squares (.) and trees (#) you can see. For example:\n"
   ],
   "cell_type": "markdown",
   "metadata": {}
  },
  {
   "cell_type": "code",
   "execution_count": null,
   "metadata": {},
   "outputs": [],
   "source": [
    "\"\"\"\n",
    "..##.......\n",
    "#...#...#..\n",
    ".#....#..#.\n",
    "..#.#...#.#\n",
    ".#...##..#.\n",
    "..#.##.....\n",
    ".#.#.#....#\n",
    ".#........#\n",
    "#.##...#...\n",
    "#...##....#\n",
    ".#..#...#.#\n",
    "\"\"\""
   ]
  },
  {
   "source": [
    "\n",
    "These aren't the only trees, though; due to something you read about once involving arboreal genetics and biome stability, the same pattern repeats to the right many times:\n"
   ],
   "cell_type": "markdown",
   "metadata": {}
  },
  {
   "cell_type": "code",
   "execution_count": null,
   "metadata": {},
   "outputs": [],
   "source": [
    "\"\"\"\n",
    "..##.........##.........##.........##.........##.........##.......  --->\n",
    "#...#...#..#...#...#..#...#...#..#...#...#..#...#...#..#...#...#..\n",
    ".#....#..#..#....#..#..#....#..#..#....#..#..#....#..#..#....#..#.\n",
    "..#.#...#.#..#.#...#.#..#.#...#.#..#.#...#.#..#.#...#.#..#.#...#.#\n",
    ".#...##..#..#...##..#..#...##..#..#...##..#..#...##..#..#...##..#.\n",
    "..#.##.......#.##.......#.##.......#.##.......#.##.......#.##.....  --->\n",
    ".#.#.#....#.#.#.#....#.#.#.#....#.#.#.#....#.#.#.#....#.#.#.#....#\n",
    ".#........#.#........#.#........#.#........#.#........#.#........#\n",
    "#.##...#...#.##...#...#.##...#...#.##...#...#.##...#...#.##...#...\n",
    "#...##....##...##....##...##....##...##....##...##....##...##....#\n",
    ".#..#...#.#.#..#...#.#.#..#...#.#.#..#...#.#.#..#...#.#.#..#...#.#  --->\n",
    "\"\"\""
   ]
  },
  {
   "source": [
    "\n",
    "You start on the open square (.) in the top-left corner and need to reach the bottom (below the bottom-most row on your map).\n",
    "\n",
    "The toboggan can only follow a few specific slopes (you opted for a cheaper model that prefers rational numbers); start by counting all the trees you would encounter for the slope right 3, down 1:\n",
    "\n",
    "From your starting position at the top-left, check the position that is right 3 and down 1. Then, check the position that is right 3 and down 1 from there, and so on until you go past the bottom of the map.\n",
    "\n",
    "The locations you'd check in the above example are marked here with O where there was an open square and X where there was a tree:\n"
   ],
   "cell_type": "markdown",
   "metadata": {}
  },
  {
   "cell_type": "code",
   "execution_count": null,
   "metadata": {},
   "outputs": [],
   "source": [
    "\"\"\"\n",
    "..##.........##.........##.........##.........##.........##.......  --->\n",
    "#..O#...#..#...#...#..#...#...#..#...#...#..#...#...#..#...#...#..\n",
    ".#....X..#..#....#..#..#....#..#..#....#..#..#....#..#..#....#..#.\n",
    "..#.#...#O#..#.#...#.#..#.#...#.#..#.#...#.#..#.#...#.#..#.#...#.#\n",
    ".#...##..#..X...##..#..#...##..#..#...##..#..#...##..#..#...##..#.\n",
    "..#.##.......#.X#.......#.##.......#.##.......#.##.......#.##.....  --->\n",
    ".#.#.#....#.#.#.#.O..#.#.#.#....#.#.#.#....#.#.#.#....#.#.#.#....#\n",
    ".#........#.#........X.#........#.#........#.#........#.#........#\n",
    "#.##...#...#.##...#...#.X#...#...#.##...#...#.##...#...#.##...#...\n",
    "#...##....##...##....##...#X....##...##....##...##....##...##....#\n",
    ".#..#...#.#.#..#...#.#.#..#...X.#.#..#...#.#.#..#...#.#.#..#...#.#  --->\n",
    "\"\"\""
   ]
  },
  {
   "source": [
    "\n",
    "In this example, traversing the map using this slope would cause you to encounter 7 trees.\n",
    "\n",
    "Starting at the top-left corner of your map and following a slope of right 3 and down 1, how many trees would you encounter?\n",
    "\n",
    "\n",
    "**--- Part Two ---**\n",
    "Time to check the rest of the slopes - you need to minimize the probability of a sudden arboreal stop, after all.\n",
    "\n",
    "Determine the number of trees you would encounter if, for each of the following slopes, you start at the top-left corner and traverse the map all the way to the bottom:\n",
    "\n",
    "- Right 1, down 1.\n",
    "- Right 3, down 1. (This is the slope you already checked.)\n",
    "- Right 5, down 1.\n",
    "- Right 7, down 1.\n",
    "- Right 1, down 2.\n",
    "\n",
    "In the above example, these slopes would find 2, 7, 3, 4, and 2 tree(s) respectively; multiplied together, these produce the answer 336.\n",
    "\n",
    "What do you get if you multiply together the number of trees encountered on each of the listed slopes?"
   ],
   "cell_type": "markdown",
   "metadata": {}
  },
  {
   "cell_type": "code",
   "execution_count": 68,
   "metadata": {
    "tags": []
   },
   "outputs": [
    {
     "output_type": "stream",
     "name": "stdout",
     "text": [
      "171 1206576000\n"
     ]
    }
   ],
   "source": [
    "from numpy import prod as prod\n",
    "\n",
    "slopes = [[1, 1], [3, 1], [5, 1], [7, 1], [1, 2]]\n",
    "coords = [0] * len(slopes); trees = [0] * len(slopes)\n",
    "\n",
    "with open(\"inputs/input_day_03.txt\", \"r\") as txt:\n",
    "    next(txt)\n",
    "    for line_cnt, line in enumerate(txt, start = 1): # Lines loop\n",
    "        line = line.strip()\n",
    "\n",
    "        for idx, slope in enumerate(slopes): # Slopes loop\n",
    "            right = slope[0] ; down = slope[1]\n",
    "            \n",
    "            if line_cnt % down == 0: # \"down\" sets which lines are checked\n",
    "                coords[idx] = coords[idx]+right if coords[idx]+right < len(line) \\\n",
    "                    else coords[idx]+right - len(line) # Fix \"coord\" if it exceeds the line\n",
    "\n",
    "                if line[coords[idx]] == \"#\": # Is it a tree?\n",
    "                    trees[idx] += 1\n",
    "\n",
    "# Parts 1 & 2\n",
    "print(trees[1], prod(trees))"
   ]
  },
  {
   "source": [
    "***\n",
    "## Day 4\n",
    "\n",
    "**--- Day 4: Passport Processing ---**\n",
    "\n",
    "You arrive at the airport only to realize that you grabbed your North Pole Credentials instead of your passport. While these documents are extremely similar, North Pole Credentials aren't issued by a country and therefore aren't actually valid documentation for travel in most of the world.\n",
    "\n",
    "It seems like you're not the only one having problems, though; a very long line has formed for the automatic passport scanners, and the delay could upset your travel itinerary.\n",
    "\n",
    "Due to some questionable network security, you realize you might be able to solve both of these problems at the same time.\n",
    "\n",
    "The automatic passport scanners are slow because they're having trouble detecting which passports have all required fields. The expected fields are as follows:\n",
    "\n",
    "byr (Birth Year)  \n",
    "iyr (Issue Year)  \n",
    "eyr (Expiration Year)  \n",
    "hgt (Height)  \n",
    "hcl (Hair Color)  \n",
    "ecl (Eye Color)  \n",
    "pid (Passport ID)  \n",
    "cid (Country ID)  \n",
    "\n",
    "\n",
    "Passport data is validated in batch files (your puzzle input). Each passport is represented as a sequence of key:value pairs separated by spaces or newlines. Passports are separated by blank lines.\n",
    "\n",
    "Here is an example batch file containing four passports:\n",
    "\n",
    "ecl:gry pid:860033327 eyr:2020 hcl:#fffffd  \n",
    "byr:1937 iyr:2017 cid:147 hgt:183cm  \n",
    "  \n",
    "iyr:2013 ecl:amb cid:350 eyr:2023 pid:028048884  \n",
    "hcl:#cfa07d byr:1929  \n",
    "\n",
    "hcl:#ae17e1 iyr:2013  \n",
    "eyr:2024  \n",
    "ecl:brn pid:760753108 byr:1931  \n",
    "hgt:179cm  \n",
    "  \n",
    "hcl:#cfa07d eyr:2025 pid:166559648  \n",
    "iyr:2011 ecl:brn hgt:59in  \n",
    "\n",
    "The first passport is valid - all eight fields are present. The second passport is invalid - it is missing hgt (the Height field).\n",
    "\n",
    "The third passport is interesting; the only missing field is cid, so it looks like data from North Pole Credentials, not a passport at all! Surely, nobody would mind if you made the system temporarily ignore missing cid fields. Treat this \"passport\" as valid.\n",
    "\n",
    "The fourth passport is missing two fields, cid and byr. Missing cid is fine, but missing any other field is not, so this passport is invalid.\n",
    "\n",
    "According to the above rules, your improved system would report 2 valid passports.\n",
    "\n",
    "Count the number of valid passports - those that have all required fields. Treat cid as optional. In your batch file, how many passports are valid?"
   ],
   "cell_type": "markdown",
   "metadata": {}
  },
  {
   "cell_type": "code",
   "execution_count": 63,
   "metadata": {},
   "outputs": [
    {
     "output_type": "stream",
     "name": "stdout",
     "text": [
      "179\n"
     ]
    }
   ],
   "source": [
    "import re\n",
    "\n",
    "txt = open(\"inputs/input_04.txt\", \"r\")\n",
    "credentials = txt.read().split(\"\\n\\n\")\n",
    "# fields = [\"byr\", \"iyr\", \"eyr\", \"hgt\", \"hcl\", \"ecl\", \"pid\"] # Part 1\n",
    "fields = [\"byr:(19[2-9][0-9]|200[0-2])\", # Part 2\n",
    "                \"iyr:(201[0-9]|2020)\",\n",
    "                \"eyr:(202[0-9]|2030)\",\n",
    "                \"hgt:(1[5-8][0-9]|19[0-3])cm|hgt:(59|6[0-9]|7[0-6])in\",\n",
    "                \"hcl:#[0-9|a-f]{6}(?!\\w)\",\n",
    "                \"ecl:(amb|blu|brn|gry|grn|hzl|oth)\",\n",
    "                \"pid:[0-9]{9}(?!\\w)\"]\n",
    "\n",
    "valid = sum([all([re.search(pattern, passport) for pattern in fields]) for passport in credentials])\n",
    "\n",
    "print(valid)\n"
   ]
  },
  {
   "source": [
    "***\n",
    "## Day 5"
   ],
   "cell_type": "markdown",
   "metadata": {}
  },
  {
   "source": [
    "***\n",
    "## Day 6"
   ],
   "cell_type": "markdown",
   "metadata": {}
  },
  {
   "source": [
    "***\n",
    "## Day 7"
   ],
   "cell_type": "markdown",
   "metadata": {}
  },
  {
   "source": [
    "***\n",
    "## Day 8"
   ],
   "cell_type": "markdown",
   "metadata": {}
  },
  {
   "source": [
    "***\n",
    "## Day 9"
   ],
   "cell_type": "markdown",
   "metadata": {}
  },
  {
   "source": [
    "***\n",
    "## Day 10"
   ],
   "cell_type": "markdown",
   "metadata": {}
  },
  {
   "source": [
    "***\n",
    "## Day 11"
   ],
   "cell_type": "markdown",
   "metadata": {}
  },
  {
   "source": [
    "***\n",
    "## Day 12"
   ],
   "cell_type": "markdown",
   "metadata": {}
  },
  {
   "source": [
    "***\n",
    "## Day 13"
   ],
   "cell_type": "markdown",
   "metadata": {}
  },
  {
   "source": [
    "***\n",
    "## Day 14"
   ],
   "cell_type": "markdown",
   "metadata": {}
  },
  {
   "source": [
    "***\n",
    "## Day 15"
   ],
   "cell_type": "markdown",
   "metadata": {}
  },
  {
   "source": [
    "***\n",
    "## Day 16"
   ],
   "cell_type": "markdown",
   "metadata": {}
  },
  {
   "source": [
    "***\n",
    "## Day 17"
   ],
   "cell_type": "markdown",
   "metadata": {}
  },
  {
   "source": [
    "***\n",
    "## Day 18"
   ],
   "cell_type": "markdown",
   "metadata": {}
  },
  {
   "source": [
    "***\n",
    "## Day 19"
   ],
   "cell_type": "markdown",
   "metadata": {}
  },
  {
   "source": [
    "***\n",
    "## Day 20"
   ],
   "cell_type": "markdown",
   "metadata": {}
  },
  {
   "source": [
    "***\n",
    "## Day 21"
   ],
   "cell_type": "markdown",
   "metadata": {}
  },
  {
   "source": [
    "***\n",
    "## Day 22"
   ],
   "cell_type": "markdown",
   "metadata": {}
  },
  {
   "source": [
    "***\n",
    "## Day 23"
   ],
   "cell_type": "markdown",
   "metadata": {}
  },
  {
   "source": [
    "***\n",
    "## Day 24"
   ],
   "cell_type": "markdown",
   "metadata": {}
  },
  {
   "source": [
    "***\n",
    "## Day 25"
   ],
   "cell_type": "markdown",
   "metadata": {}
  }
 ]
}