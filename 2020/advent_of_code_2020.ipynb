{
 "metadata": {
  "language_info": {
   "codemirror_mode": {
    "name": "ipython",
    "version": 3
   },
   "file_extension": ".py",
   "mimetype": "text/x-python",
   "name": "python",
   "nbconvert_exporter": "python",
   "pygments_lexer": "ipython3",
   "version": "2.7.16-final"
  },
  "orig_nbformat": 2,
  "kernelspec": {
   "name": "python2",
   "display_name": "Python 2"
  }
 },
 "nbformat": 4,
 "nbformat_minor": 2,
 "cells": [
  {
   "source": [
    "# Advent of Code 2020\n",
    "\n",
    "## Day 1\n",
    "\n",
    "Before you leave, the Elves in accounting just need you to fix your expense report (your puzzle input); apparently, something isn't quite adding up.\n",
    "\n",
    "Specifically, they need you to find the two entries that sum to 2020 and then multiply those two numbers together.\n",
    "\n",
    "For example, suppose your expense report contained the following:\n",
    "\n",
    "1721\n",
    "979\n",
    "366\n",
    "299\n",
    "675\n",
    "1456\n",
    "\n",
    "In this list, the two entries that sum to 2020 are 1721 and 299. Multiplying them together produces 1721 * 299 = 514579, so the correct answer is 514579.\n",
    "\n",
    "Of course, your expense report is much larger. Find the two entries that sum to 2020; what do you get if you multiply them together?\n"
   ],
   "cell_type": "markdown",
   "metadata": {}
  },
  {
   "cell_type": "code",
   "execution_count": 13,
   "metadata": {},
   "outputs": [
    {
     "output_type": "stream",
     "name": "stdout",
     "text": [
      "1010299\n"
     ]
    }
   ],
   "source": [
    "from itertools import *\n",
    "\n",
    "with open(\"input_day_01.txt\", \"r\") as txt:\n",
    "    numbers = [int(line.strip()) for line in txt]\n",
    "\n",
    "sum_2020 = [comb for comb in combinations(numbers, 2) if sum(comb) == 2020][0]\n",
    "\n",
    "prod_2020 = sum_2020[0] * sum_2020[1]\n",
    "print(prod_2020)"
   ]
  },
  {
   "source": [
    "**--- Part Two ---**\n",
    "\n",
    "The Elves in accounting are thankful for your help; one of them even offers you a starfish coin they had left over from a past vacation. They offer you a second one if you can find three numbers in your expense report that meet the same criteria.\n",
    "\n",
    "Using the above example again, the three entries that sum to 2020 are 979, 366, and 675. Multiplying them together produces the answer, 241861950.\n",
    "\n",
    "In your expense report, what is the product of the three entries that sum to 2020?"
   ],
   "cell_type": "markdown",
   "metadata": {}
  },
  {
   "cell_type": "code",
   "execution_count": 14,
   "metadata": {},
   "outputs": [
    {
     "output_type": "stream",
     "name": "stdout",
     "text": [
      "42140160\n"
     ]
    }
   ],
   "source": [
    "from itertools import *\n",
    "\n",
    "with open(\"input_day_01.txt\", \"r\") as txt:\n",
    "    numbers = [int(line.strip()) for line in txt]\n",
    "\n",
    "sum_2020 = [comb for comb in combinations(numbers, 3) if sum(comb) == 2020][0]\n",
    "\n",
    "prod_2020 = sum_2020[0] * sum_2020[1] * sum_2020[2]\n",
    "print(prod_2020)"
   ]
  },
  {
   "source": [
    "***\n",
    "\n",
    "## Day 2\n",
    "\n",
    "**--- Day 2: Password Philosophy ---**\n",
    "\n",
    "Your flight departs in a few days from the coastal airport; the easiest way down to the coast from here is via toboggan.\n",
    "\n",
    "The shopkeeper at the North Pole Toboggan Rental Shop is having a bad day. \"Something's wrong with our computers; we can't log in!\" You ask if you can take a look.\n",
    "\n",
    "Their password database seems to be a little corrupted: some of the passwords wouldn't have been allowed by the Official Toboggan Corporate Policy that was in effect when they were chosen.\n",
    "\n",
    "To try to debug the problem, they have created a list (your puzzle input) of passwords (according to the corrupted database) and the corporate policy when that password was set.\n",
    "\n",
    "For example, suppose you have the following list:\n",
    "\n",
    "`1-3 a: abcde\n",
    "1-3 b: cdefg\n",
    "2-9 c: ccccccccc`\n",
    "\n",
    "Each line gives the password policy and then the password. The password policy indicates the lowest and highest number of times a given letter must appear for the password to be valid. For example, 1-3 a means that the password must contain a at least 1 time and at most 3 times.\n",
    "\n",
    "In the above example, 2 passwords are valid. The middle password, cdefg, is not; it contains no instances of b, but needs at least 1. The first and third passwords are valid: they contain one a or nine c, both within the limits of their respective policies.\n",
    "\n",
    "How many passwords are valid according to their policies?\n"
   ],
   "cell_type": "markdown",
   "metadata": {}
  },
  {
   "cell_type": "code",
   "execution_count": 26,
   "metadata": {},
   "outputs": [
    {
     "output_type": "stream",
     "name": "stdout",
     "text": [
      "445\n"
     ]
    }
   ],
   "source": [
    "import pandas as pd \n",
    "\n",
    "data = pd.read_csv(\"input_day_02.txt\", sep = \" \", header = None)\n",
    "data.columns = [\"limits\", \"letter\", \"password\"]\n",
    "\n",
    "data[[\"min\", \"max\"]] = data[\"limits\"].str.split(\"-\", expand = True)\n",
    "data[[\"min\", \"max\"]] = data[[\"min\", \"max\"]].apply(pd.to_numeric)\n",
    "\n",
    "data[\"letter\"] = data[\"letter\"].str.replace(\":\", \"\")\n",
    "\n",
    "good_pw = 0\n",
    "for index, row in data.iterrows():\n",
    "    min_count = row[\"min\"]\n",
    "    max_count = row[\"max\"]\n",
    "    count = row[\"password\"].count(row[\"letter\"])\n",
    "    \n",
    "    if min_count <= count <= max_count:\n",
    "        good_pw += 1\n",
    "\n",
    "print(good_pw)"
   ]
  },
  {
   "source": [
    "**--- Part Two ---**\n",
    "While it appears you validated the passwords correctly, they don't seem to be what the Official Toboggan Corporate Authentication System is expecting.\n",
    "\n",
    "The shopkeeper suddenly realizes that he just accidentally explained the password policy rules from his old job at the sled rental place down the street! The Official Toboggan Corporate Policy actually works a little differently.\n",
    "\n",
    "Each policy actually describes two positions in the password, where 1 means the first character, 2 means the second character, and so on. (Be careful; Toboggan Corporate Policies have no concept of \"index zero\"!) Exactly one of these positions must contain the given letter. Other occurrences of the letter are irrelevant for the purposes of policy enforcement.\n",
    "\n",
    "Given the same example list from above:\n",
    "\n",
    "1-3 a: abcde is valid: position 1 contains a and position 3 does not.\n",
    "1-3 b: cdefg is invalid: neither position 1 nor position 3 contains b.\n",
    "2-9 c: ccccccccc is invalid: both position 2 and position 9 contain c.\n",
    "How many passwords are valid according to the new interpretation of the policies?"
   ],
   "cell_type": "markdown",
   "metadata": {}
  },
  {
   "cell_type": "code",
   "execution_count": 31,
   "metadata": {},
   "outputs": [
    {
     "output_type": "stream",
     "name": "stdout",
     "text": [
      "491\n"
     ]
    }
   ],
   "source": [
    "import pandas as pd \n",
    "\n",
    "data = pd.read_csv(\"input_day_02.txt\", sep = \" \", header = None)\n",
    "data.columns = [\"limits\", \"letter\", \"password\"]\n",
    "\n",
    "data[[\"min\", \"max\"]] = data[\"limits\"].str.split(\"-\", expand = True)\n",
    "data[[\"min\", \"max\"]] = data[[\"min\", \"max\"]].apply(pd.to_numeric)\n",
    "\n",
    "data[\"letter\"] = data[\"letter\"].str.replace(\":\", \"\")\n",
    "\n",
    "good_pw = 0\n",
    "for index, row in data.iterrows():\n",
    "    idx_1 = row[\"min\"] -1\n",
    "    idx_2 = row[\"max\"] -1\n",
    "    letter = row[\"letter\"]\n",
    "    pw = row[\"password\"]\n",
    "\n",
    "    is_only_one = sum((pw[idx_1] == letter, pw[idx_2] == letter)) == 1\n",
    "\n",
    "    if is_only_one:\n",
    "        good_pw += 1\n",
    "\n",
    "print(good_pw)"
   ]
  }
 ]
}